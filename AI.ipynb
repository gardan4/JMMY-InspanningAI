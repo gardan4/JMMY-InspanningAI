{
 "cells": [
  {
   "cell_type": "markdown",
   "metadata": {},
   "source": [
    "### Begin hier\n",
    "Begin met het runnen van deze blokken code.  \n",
    "Deze zijn verantwoordelijk voor imports, setup, dependencies en andere zaken. "
   ]
  },
  {
   "cell_type": "code",
   "execution_count": null,
   "metadata": {},
   "outputs": [],
   "source": [
    "# Installing Dependencies\n",
    "import install_deps as deps\n",
    "choiche = input(\"Install Deps? (choose y to continue) \")\n",
    "if choiche == \"y\":\n",
    "    deps.unattended_install()\n",
    "else:\n",
    "    pass"
   ]
  },
  {
   "cell_type": "code",
   "execution_count": null,
   "metadata": {
    "collapsed": true,
    "pycharm": {
     "is_executing": true
    }
   },
   "outputs": [],
   "source": [
    "# Imports\n",
    "import pandas as pd\n",
    "import cv2\n",
    "import numpy as np\n",
    "from matplotlib import pyplot as plt\n",
    "import data_generator as dgen\n",
    "from sklearn.model_selection import train_test_split\n",
    "import tensorflow as tf\n",
    "from tensorflow import keras\n",
    "import keras\n",
    "from keras.models import Sequential\n",
    "from keras.layers import Dense\n",
    "from keras import backend as K\n",
    "from keras.layers import Layer\n",
    "from keras.models import Model\n",
    "\n",
    "from keras.layers import Input\n",
    "from keras.layers import Dense\n",
    "from keras.layers import Dense, Input, Concatenate, Lambda\n",
    "from tensorflow.python.client import device_lib\n",
    "print(device_lib.list_local_devices())\n",
    "tf.debugging.set_log_device_placement(False)\n",
    "print(tf.__version__)\n",
    "print(len(tf.config.list_physical_devices('GPU'))>0)\n",
    "\n",
    "print(\"Succes loading Imports\")"
   ]
  },
  {
   "cell_type": "code",
   "execution_count": null,
   "metadata": {
    "collapsed": false,
    "pycharm": {
     "is_executing": true,
     "name": "#%%\n"
    }
   },
   "outputs": [],
   "source": [
    "# Functions\n",
    "def get_file_name(path):\n",
    "    file_name = path[path.rfind('/') + 1:]\n",
    "    # Splits out the file-type designation\n",
    "    file_name, file_extension = file_name.split('.')\n",
    "    return file_name\n",
    "    \n",
    "print(\"Succes loading Functions\")"
   ]
  },
  {
   "cell_type": "markdown",
   "metadata": {},
   "source": [
    "### Heb je al data?\n",
    "Als er al trainingsdata bestaat, schrijf dan simpelweg de filename bij het betreffende blok.  \n",
    "Run anders het blok waarin de data nog word gegenereerd. "
   ]
  },
  {
   "cell_type": "code",
   "execution_count": null,
   "metadata": {
    "collapsed": false,
    "pycharm": {
     "is_executing": true,
     "name": "#%%\n"
    }
   },
   "outputs": [],
   "source": [
    "\"\"\"Ik heb geen data\"\"\"\n",
    "# Start here if no data has been generated.\n",
    "\n",
    "print(\"Provide the path to a video file.\\n\"\n",
    "      \"  (Example: C:/Users/admin/video/video.mp4)\")\n",
    "\n",
    "vid_path = input(\"Provide a video path: \")\n",
    "vid_name = get_file_name(vid_path)\n",
    "print(f\"Provided path: '{vid_path}',\\nfound filename: '{vid_name}'\")\n",
    "print(\"\")\n",
    "\n",
    "generator = dgen.Generator(vid_path)\n",
    "generator.generate_data()\n",
    "print(f\"Video has been processed and exported to {generator.processor.file_name}__trainingsData.mp4\")\n",
    "print(f\"Data generated and exported to {generator.processor.file_name}_trainingsData.json\")\n",
    "print(\"\")\n",
    "\n",
    "try: \n",
    "      data_path = f\"generateData_OUTPUT/{vid_name}_trainingsData.json\"\n",
    "      frame_data = pd.read_json(data_path, orient='index')\n",
    "except Exception as e:\n",
    "      print(f\"Something went wrong.\\n {e}\")\n",
    "\n",
    "\n",
    "print(\"The data-table was loaded. \\nTotal Table size: \")\n",
    "print(f\"Rows: {frame_data.shape[0]}, Columns: {frame_data.shape[1]}\")"
   ]
  },
  {
   "cell_type": "code",
   "execution_count": null,
   "metadata": {
    "collapsed": false,
    "pycharm": {
     "is_executing": true,
     "name": "#%%\n"
    }
   },
   "outputs": [],
   "source": [
    "\"\"\"Ik heb al trainingsdata. \"\"\"\n",
    "# Start here if data has already been generated.\n",
    "print(\"Provide the filename to a file in \"\n",
    "      \"the generateData_OUTPUT folder.\\n\"\n",
    "      \"Example: perfect_example_trainingsData\")\n",
    "      \n",
    "data_path = input(\"Filename: \")\n",
    "vid_name = get_file_name(data_path)\n",
    "print(f\"Provided path: {data_path}\")\n",
    "\n",
    "try: \n",
    "      data_path = f\"generateData_OUTPUT/{vid_name}.json\"\n",
    "      frame_data = pd.read_json(data_path, orient='index')\n",
    "except Exception as e:\n",
    "      print(f\"Something went wrong.\\n {e}\")\n",
    "\n",
    "print(\"\\nTotal Table size: \")\n",
    "print(f\"Rows: {frame_data.shape[0]}, Columns: {frame_data.shape[1]}\")"
   ]
  },
  {
   "cell_type": "code",
   "execution_count": null,
   "metadata": {
    "collapsed": false,
    "pycharm": {
     "is_executing": true,
     "name": "#%%\n"
    }
   },
   "outputs": [],
   "source": [
    "\"\"\"Bereid de ingeladen data voor\"\"\"\n",
    "# Puts X and Y for the AI to train in the proper form\n",
    "Xtemp = frame_data.drop(columns=['TS', 'HR', 'PWR', 'heartRateZone'])\n",
    "Y = frame_data[\"heartRateZone\"]\n",
    "X = []\n",
    "temp = []\n",
    "\n",
    "# Loop trough the different rows and append them,\n",
    "#   to get rid of the \"list in list\" problem.\n",
    "for index, row in Xtemp.iterrows():\n",
    "    for i in range(0,478):\n",
    "        for g in range(0,3):\n",
    "            temp.append(row[i][0][g])\n",
    "    X.append(temp)\n",
    "    temp = []\n",
    "Y.to_numpy()\n",
    "\n",
    "# Turn the number value (1,2,3,4,5,6) in to a binary value (kinda),\n",
    "# EXAMPLE: [0,0,1] == 3 etc.\n",
    "Y = Y.values.reshape(-1,1)\n",
    "temps = np.zeros((len(Y), 6))\n",
    "\n",
    "for i in range(0,len(Y)):\n",
    "    if Y[i][0] == 0:\n",
    "        temps[i][0] = 1\n",
    "    elif Y[i][0] == 1:\n",
    "        temps[i][1] = 1\n",
    "    elif Y[i][0] == 2:\n",
    "        temps[i][2] = 1\n",
    "    elif Y[i][0] == 3:\n",
    "        temps[i][3] = 1\n",
    "    elif Y[i][0] == 4:\n",
    "        temps[i][4] = 1\n",
    "    elif Y[i][0] == 5:\n",
    "        temps[i][5] = 1\n",
    "\n",
    "# print(temps)\n",
    "\n",
    "# Split the loaded and prepped data into training data and testing data.\n",
    "# The testing data is used to evaluate th created model\n",
    "X_train, X_test, Y_train, Y_test = train_test_split(X, temps, test_size=0.33, random_state=42)\n",
    "\n",
    "X_train = np.array(X_train)\n",
    "\n",
    "# print(X_train.shape)\n",
    "# print(Y_train.shape)\n"
   ]
  },
  {
   "cell_type": "code",
   "execution_count": null,
   "metadata": {
    "collapsed": false,
    "pycharm": {
     "name": "#%%\n"
    }
   },
   "outputs": [],
   "source": [
    "\"\"\"Maak het model voor het AI\"\"\"\n",
    "# Make the model\n",
    "inputTensor = Input(shape=(1434,))\n",
    "layers = []\n",
    "\n",
    "# Add all the nodes\n",
    "for i in range(0, 1434, 3):\n",
    "    layers.append(Lambda(lambda x: x[:,i: i+3], output_shape=((3,)))(inputTensor))\n",
    "for i in range(0, 478):\n",
    "    layers[i] = Dense(1)(layers[i])\n",
    "coordslayer = Concatenate()(layers)\n",
    "\n",
    "# Define all the hidden layers\n",
    "hidden1 = Dense(477*2, activation='relu')(coordslayer)\n",
    "hidden2 = Dense(477, activation='relu')(hidden1)\n",
    "hidden3 = Dense(240, activation='relu')(hidden2)\n",
    "hidden4 = Dense(100, activation='relu')(hidden3)\n",
    "hidden5 = Dense(20, activation='relu')(hidden4)\n",
    "\n",
    "# This is the final model:\n",
    "outputTensor = Dense(6, activation='sigmoid')(hidden5)\n",
    "model = Model(inputs=inputTensor, outputs=outputTensor)\n",
    "\n",
    "# Show the current model:\n",
    "print(model.summary())\n",
    "\n",
    "# TODO: Misschien een \"Doorgaan? (Y/N)\"\n",
    "\n",
    "# Compile the model so it can be used\n",
    "model.compile(loss='categorical_crossentropy', optimizer='adam', metrics=['accuracy'])"
   ]
  },
  {
   "cell_type": "code",
   "execution_count": null,
   "metadata": {
    "collapsed": false,
    "pycharm": {
     "name": "#%%\n"
    }
   },
   "outputs": [],
   "source": [
    "# DONT RUN - Clears the model\n",
    "keras.backend.clear_session()"
   ]
  },
  {
   "cell_type": "code",
   "execution_count": null,
   "metadata": {
    "collapsed": false,
    "pycharm": {
     "is_executing": true,
     "name": "#%%\n"
    }
   },
   "outputs": [],
   "source": [
    "\"\"\"Train het model\"\"\"\n",
    "model.fit(X_train, Y_train, epochs=150, batch_size=100)"
   ]
  },
  {
   "cell_type": "code",
   "execution_count": null,
   "metadata": {
    "collapsed": false,
    "pycharm": {
     "is_executing": true,
     "name": "#%%\n"
    }
   },
   "outputs": [],
   "source": [
    "\"\"\"Evalueer het model\"\"\"\n",
    "X_test = np.array(X_test)\n",
    "accuracy = model.evaluate(X_test, Y_test)\n",
    "print(accuracy)"
   ]
  },
  {
   "cell_type": "code",
   "execution_count": null,
   "metadata": {
    "collapsed": false,
    "pycharm": {
     "is_executing": true,
     "name": "#%%\n"
    }
   },
   "outputs": [],
   "source": [
    "model.save('models/model_0.8_0.72')"
   ]
  },
  {
   "cell_type": "code",
   "execution_count": null,
   "metadata": {
    "collapsed": false,
    "pycharm": {
     "name": "#%%\n"
    }
   },
   "outputs": [],
   "source": [
    "model = keras.models.load_model('models/model_0.8_0.72')"
   ]
  }
 ],
 "metadata": {
  "kernelspec": {
   "display_name": "Python 3 (ipykernel)",
   "language": "python",
   "name": "python3"
  },
  "language_info": {
   "codemirror_mode": {
    "name": "ipython",
    "version": 3
   },
   "file_extension": ".py",
   "mimetype": "text/x-python",
   "name": "python",
   "nbconvert_exporter": "python",
   "pygments_lexer": "ipython3",
   "version": "3.10.4"
  }
 },
 "nbformat": 4,
 "nbformat_minor": 0
}
